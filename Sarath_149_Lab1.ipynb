{
  "nbformat": 4,
  "nbformat_minor": 0,
  "metadata": {
    "colab": {
      "provenance": []
    },
    "kernelspec": {
      "name": "python3",
      "display_name": "Python 3"
    },
    "language_info": {
      "name": "python"
    }
  },
  "cells": [
    {
      "cell_type": "markdown",
      "source": [
        "Create the XOR Gate Truth Table Dataset\n"
      ],
      "metadata": {
        "id": "48M3YPlv7H6X"
      }
    },
    {
      "cell_type": "code",
      "execution_count": 1,
      "metadata": {
        "colab": {
          "base_uri": "https://localhost:8080/"
        },
        "id": "2LNUticR5FKY",
        "outputId": "bf9580e0-9d65-45f2-e61a-70d8d5de93cf"
      },
      "outputs": [
        {
          "output_type": "stream",
          "name": "stdout",
          "text": [
            "   Input A  Input B  Output\n",
            "0        0        0       0\n",
            "1        0        1       1\n",
            "2        1        0       1\n",
            "3        1        1       0\n"
          ]
        }
      ],
      "source": [
        "import numpy as np\n",
        "import pandas as pd\n",
        "\n",
        "# Create the XOR dataset\n",
        "X = np.array([[0, 0],\n",
        "              [0, 1],\n",
        "              [1, 0],\n",
        "              [1, 1]])\n",
        "y = np.array([[0], [1], [1], [0]])\n",
        "\n",
        "# Create a DataFrame for better visualization\n",
        "xor_data = pd.DataFrame(np.hstack((X, y)), columns=['Input A', 'Input B', 'Output'])\n",
        "print(xor_data)\n"
      ]
    },
    {
      "cell_type": "markdown",
      "source": [
        "Implement the Perceptron Model\n",
        "McCulloch-Pitts Neuron\n",
        "A Single Layer Perceptron will attempt to learn the XOR function, but it will fail. Here is the implementation:"
      ],
      "metadata": {
        "id": "0izNDjDh7Kuz"
      }
    },
    {
      "cell_type": "code",
      "source": [
        "class Perceptron:\n",
        "    def __init__(self, learning_rate=0.1, n_iter=100):\n",
        "        self.learning_rate = learning_rate\n",
        "        self.n_iter = n_iter\n",
        "        self.weights = None\n",
        "        self.bias = None\n",
        "\n",
        "    def activation_function(self, x):\n",
        "        return 1 if x >= 0 else 0\n",
        "\n",
        "    def fit(self, X, y):\n",
        "        n_samples, n_features = X.shape\n",
        "        self.weights = np.zeros(n_features)\n",
        "        self.bias = 0\n",
        "\n",
        "        for _ in range(self.n_iter):\n",
        "            for idx, x_i in enumerate(X):\n",
        "                linear_output = np.dot(x_i, self.weights) + self.bias\n",
        "                y_predicted = self.activation_function(linear_output)\n",
        "\n",
        "                # Update weights and bias\n",
        "                update = self.learning_rate * (y[idx] - y_predicted)\n",
        "                self.weights += update * x_i\n",
        "                self.bias += update\n",
        "\n",
        "    def predict(self, X):\n",
        "        linear_output = np.dot(X, self.weights) + self.bias\n",
        "        return np.array([self.activation_function(x) for x in linear_output])\n",
        "\n",
        "# Train the perceptron\n",
        "perceptron = Perceptron(learning_rate=0.1, n_iter=10)\n",
        "perceptron.fit(X, y.flatten())\n",
        "\n",
        "# Test the perceptron\n",
        "predictions = perceptron.predict(X)\n",
        "print(\"Predictions by Single Layer Perceptron:\", predictions)\n"
      ],
      "metadata": {
        "colab": {
          "base_uri": "https://localhost:8080/"
        },
        "id": "jouqyq5V6WlI",
        "outputId": "a8b819c7-f495-49ee-9728-2a9e7676330f"
      },
      "execution_count": 2,
      "outputs": [
        {
          "output_type": "stream",
          "name": "stdout",
          "text": [
            "Predictions by Single Layer Perceptron: [1 1 0 0]\n"
          ]
        }
      ]
    },
    {
      "cell_type": "markdown",
      "source": [
        "Implement XOR Using Multi-Layer Perceptron\n",
        "Now we will implement a Multi-Layer Perceptron using a library such as scikit-learn."
      ],
      "metadata": {
        "id": "yWy-hCak7bd3"
      }
    },
    {
      "cell_type": "code",
      "source": [
        "from sklearn.neural_network import MLPClassifier\n",
        "\n",
        "# Create and train a Multi-Layer Perceptron\n",
        "mlp = MLPClassifier(hidden_layer_sizes=(2,), activation='logistic', max_iter=1000, random_state=42)\n",
        "mlp.fit(X, y.flatten())\n",
        "\n",
        "# Test the MLP\n",
        "mlp_predictions = mlp.predict(X)\n",
        "print(\"Predictions by Multi-Layer Perceptron:\", mlp_predictions)\n"
      ],
      "metadata": {
        "colab": {
          "base_uri": "https://localhost:8080/"
        },
        "id": "FItUBRq_6baq",
        "outputId": "b8c85fe1-c3fe-49b2-8936-25fafa09b2a8"
      },
      "execution_count": 3,
      "outputs": [
        {
          "output_type": "stream",
          "name": "stdout",
          "text": [
            "Predictions by Multi-Layer Perceptron: [1 1 1 1]\n"
          ]
        }
      ]
    },
    {
      "cell_type": "markdown",
      "source": [
        "Visualization: You can plot the decision boundaries and the data points to visually compare the results of both the SLP and MLP."
      ],
      "metadata": {
        "id": "PoneAQ3w7hJP"
      }
    },
    {
      "cell_type": "code",
      "source": [
        "import matplotlib.pyplot as plt\n",
        "\n",
        "# Define a function to plot decision boundaries\n",
        "def plot_decision_boundary(clf, X, y, title):\n",
        "    x_min, x_max = X[:, 0].min() - 1, X[:, 0].max() + 1\n",
        "    y_min, y_max = X[:, 1].min() - 1, X[:, 1].max() + 1\n",
        "    xx, yy = np.meshgrid(np.arange(x_min, x_max, 0.01),\n",
        "                         np.arange(y_min, y_max, 0.01))\n",
        "\n",
        "    Z = clf.predict(np.c_[xx.ravel(), yy.ravel()])\n",
        "    Z = Z.reshape(xx.shape)\n",
        "\n",
        "    plt.contourf(xx, yy, Z, alpha=0.8)\n",
        "    plt.scatter(X[:, 0], X[:, 1], c=y.flatten(), edgecolors='k', marker='o')\n",
        "    plt.title(title)\n",
        "    plt.xlabel('Input A')\n",
        "    plt.ylabel('Input B')\n",
        "    plt.show()\n",
        "\n",
        "# Plot for Multi-Layer Perceptron\n",
        "plot_decision_boundary(mlp, X, y, 'Decision Boundary of Multi-Layer Perceptron')\n",
        "\n",
        "# Since SLP cannot be plotted meaningfully due to inability to separate classes, we omit it.\n"
      ],
      "metadata": {
        "colab": {
          "base_uri": "https://localhost:8080/",
          "height": 472
        },
        "id": "6MlPoNJz6erd",
        "outputId": "97a198ed-7eb0-4b2c-ffad-856a3730688b"
      },
      "execution_count": 4,
      "outputs": [
        {
          "output_type": "display_data",
          "data": {
            "text/plain": [
              "<Figure size 640x480 with 1 Axes>"
            ],
            "image/png": "[encoded data removed]"
          },
          "metadata": {}
        }
      ]
    },
    {
      "cell_type": "markdown",
      "source": [
        "XOR Dataset: The XOR truth table dataset consists of inputs and their corresponding outputs.\n",
        "Single Layer Perceptron: Despite the SLP implementation, it fails to learn the XOR function due to its inability to handle non-linear separability.\n",
        "Multi-Layer Perceptron: The MLP successfully learns the XOR function and provides accurate predictions, as demonstrated by the decision boundary plot."
      ],
      "metadata": {
        "id": "H-p0uV2C7_im"
      }
    },
    {
      "cell_type": "markdown",
      "source": [
        "In conclusion, this lab task illustrates the limitations of a Single Layer Perceptron when dealing with non-linearly separable functions like XOR. In contrast, the Multi-Layer Perceptron effectively addresses this challenge, showcasing the power of deeper architectures in neural networks."
      ],
      "metadata": {
        "id": "4XZwOwuX8Faj"
      }
    }
  ]
}